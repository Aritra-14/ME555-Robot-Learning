{
  "nbformat": 4,
  "nbformat_minor": 0,
  "metadata": {
    "colab": {
      "provenance": []
    },
    "kernelspec": {
      "name": "python3",
      "display_name": "Python 3"
    },
    "language_info": {
      "name": "python"
    },
    "gpuClass": "standard"
  },
  "cells": [
    {
      "cell_type": "markdown",
      "source": [
        "# **Author: Aritra Ray**\n",
        "Description: Compare two videos using VideoHash\n",
        "\n",
        "\n",
        "Details of VideoHash: https://pypi.org/project/videohash/"
      ],
      "metadata": {
        "id": "jSDLoaqeB1fA"
      }
    },
    {
      "cell_type": "markdown",
      "source": [
        "# VideoHash"
      ],
      "metadata": {
        "id": "sBlbu5U8_IRx"
      }
    },
    {
      "cell_type": "markdown",
      "source": [
        "#Installation of VideoHash"
      ],
      "metadata": {
        "id": "1W8Y7yjI_UHQ"
      }
    },
    {
      "cell_type": "code",
      "source": [
        "!pip install videohash"
      ],
      "metadata": {
        "colab": {
          "base_uri": "https://localhost:8080/"
        },
        "id": "H3mr4HVj_JuE",
        "outputId": "1556359f-320e-4d39-fd68-ffc67b7debca"
      },
      "execution_count": 1,
      "outputs": [
        {
          "output_type": "stream",
          "name": "stdout",
          "text": [
            "Looking in indexes: https://pypi.org/simple, https://us-python.pkg.dev/colab-wheels/public/simple/\n",
            "Collecting videohash\n",
            "  Downloading videohash-3.0.1-py3-none-any.whl (23 kB)\n",
            "Requirement already satisfied: Pillow in /usr/local/lib/python3.7/dist-packages (from videohash) (7.1.2)\n",
            "Collecting yt-dlp\n",
            "  Downloading yt_dlp-2022.11.11-py2.py3-none-any.whl (2.8 MB)\n",
            "\u001b[K     |████████████████████████████████| 2.8 MB 22.9 MB/s \n",
            "\u001b[?25hCollecting imagedominantcolor\n",
            "  Downloading imagedominantcolor-1.0.1-py3-none-any.whl (5.9 kB)\n",
            "Collecting ImageHash\n",
            "  Downloading ImageHash-4.3.1-py2.py3-none-any.whl (296 kB)\n",
            "\u001b[K     |████████████████████████████████| 296 kB 56.4 MB/s \n",
            "\u001b[?25hRequirement already satisfied: PyWavelets in /usr/local/lib/python3.7/dist-packages (from ImageHash->videohash) (1.3.0)\n",
            "Requirement already satisfied: numpy in /usr/local/lib/python3.7/dist-packages (from ImageHash->videohash) (1.21.6)\n",
            "Requirement already satisfied: scipy in /usr/local/lib/python3.7/dist-packages (from ImageHash->videohash) (1.7.3)\n",
            "Requirement already satisfied: certifi in /usr/local/lib/python3.7/dist-packages (from yt-dlp->videohash) (2022.9.24)\n",
            "Collecting brotli\n",
            "  Downloading Brotli-1.0.9-cp37-cp37m-manylinux1_x86_64.whl (357 kB)\n",
            "\u001b[K     |████████████████████████████████| 357 kB 58.6 MB/s \n",
            "\u001b[?25hCollecting websockets\n",
            "  Downloading websockets-10.4-cp37-cp37m-manylinux_2_5_x86_64.manylinux1_x86_64.manylinux_2_17_x86_64.manylinux2014_x86_64.whl (106 kB)\n",
            "\u001b[K     |████████████████████████████████| 106 kB 57.4 MB/s \n",
            "\u001b[?25hCollecting pycryptodomex\n",
            "  Downloading pycryptodomex-3.16.0-cp35-abi3-manylinux_2_5_x86_64.manylinux1_x86_64.manylinux_2_12_x86_64.manylinux2010_x86_64.whl (2.3 MB)\n",
            "\u001b[K     |████████████████████████████████| 2.3 MB 46.3 MB/s \n",
            "\u001b[?25hCollecting mutagen\n",
            "  Downloading mutagen-1.46.0-py3-none-any.whl (193 kB)\n",
            "\u001b[K     |████████████████████████████████| 193 kB 60.4 MB/s \n",
            "\u001b[?25hInstalling collected packages: websockets, pycryptodomex, mutagen, brotli, yt-dlp, ImageHash, imagedominantcolor, videohash\n",
            "Successfully installed ImageHash-4.3.1 brotli-1.0.9 imagedominantcolor-1.0.1 mutagen-1.46.0 pycryptodomex-3.16.0 videohash-3.0.1 websockets-10.4 yt-dlp-2022.11.11\n"
          ]
        }
      ]
    },
    {
      "cell_type": "markdown",
      "source": [
        "#Import VideoHash"
      ],
      "metadata": {
        "id": "IbRTLqiU_V1S"
      }
    },
    {
      "cell_type": "code",
      "source": [
        "from videohash import VideoHash"
      ],
      "metadata": {
        "id": "0fFYwoms_cGb"
      },
      "execution_count": 2,
      "outputs": []
    },
    {
      "cell_type": "markdown",
      "source": [
        "# Calculating VideoHash"
      ],
      "metadata": {
        "id": "VdPdl2hv_gGE"
      }
    },
    {
      "cell_type": "code",
      "source": [
        "# Upload the video to Colab \n",
        "# Put the paths here \n",
        "\n",
        "path_video_gen_at_epoch15 = \"/content/epoch-15_glitch-circle-white_25.0-s_24.0-fps.mp4\"\n",
        "path_video_gen_at_epoch20 = \"/content/epoch-20_glitch-circle-white_25.0-s_24.0-fps.mp4\"\n",
        "path_video_gen_at_epoch25 = \"/content/epoch-25_glitch-circle-white_25.0-s_24.0-fps.mp4\"\n",
        "path_video_gen_at_epoch30 = \"/content/epoch-30_glitch-circle-white_25.0-s_24.0-fps.mp4\"\n",
        "path_video_gen_at_epoch35 = \"/content/epoch-35_glitch-circle-white_25.0-s_24.0-fps.mp4\"\n",
        "path_video_gen_at_epoch40 = \"/content/epoch-40_glitch-circle-white_25.0-s_24.0-fps.mp4\"\n",
        "path_video_gen_at_epoch45 = \"/content/epoch-45_glitch-circle-white_25.0-s_24.0-fps.mp4\"\n",
        "path_video_gen_at_epoch50 = \"/content/epoch-50_glitch-circle-white_25.0-s_24.0-fps.mp4\"\n",
        "\n",
        "path_ground_truth = \"/content/glitch-circle-white-720.mp4\""
      ],
      "metadata": {
        "id": "Ou-p0GH7_kGW"
      },
      "execution_count": 8,
      "outputs": []
    },
    {
      "cell_type": "code",
      "source": [
        "videohash_video_gen_at_epoch15 = VideoHash(path=path_video_gen_at_epoch15)\n",
        "videohash_video_gen_at_epoch20 = VideoHash(path=path_video_gen_at_epoch20)\n",
        "videohash_video_gen_at_epoch25 = VideoHash(path=path_video_gen_at_epoch25)\n",
        "videohash_video_gen_at_epoch30 = VideoHash(path=path_video_gen_at_epoch30)\n",
        "videohash_video_gen_at_epoch35 = VideoHash(path=path_video_gen_at_epoch35)\n",
        "videohash_video_gen_at_epoch40 = VideoHash(path=path_video_gen_at_epoch40)\n",
        "videohash_video_gen_at_epoch45 = VideoHash(path=path_video_gen_at_epoch45)\n",
        "videohash_video_gen_at_epoch50 = VideoHash(path=path_video_gen_at_epoch50)\n",
        "\n",
        "\n",
        "videohash_ground_truth = VideoHash(path=path_ground_truth)"
      ],
      "metadata": {
        "id": "G83lq5DSDYGG"
      },
      "execution_count": 9,
      "outputs": []
    },
    {
      "cell_type": "markdown",
      "source": [
        "# Difference of VideoHash values\n",
        "\n",
        "We calculate the difference of videohash values between the predicted videos and ground truth. \n",
        "\n",
        "Higher the videohash value between the predicted and ground truth, poorer is the quality of generated  video. "
      ],
      "metadata": {
        "id": "WDhKo0H5CSFW"
      }
    },
    {
      "cell_type": "code",
      "source": [
        "print(\"Difference between videohash values of ground truth and predicted video at 15th epoch\", videohash_ground_truth - videohash_video_gen_at_epoch15)\n",
        "print(\"Difference between videohash values of ground truth and predicted video at 20th epoch\", videohash_ground_truth - videohash_video_gen_at_epoch20)\n",
        "print(\"Difference between videohash values of ground truth and predicted video at 25th epoch\", videohash_ground_truth - videohash_video_gen_at_epoch25)\n",
        "print(\"Difference between videohash values of ground truth and predicted video at 30th epoch\", videohash_ground_truth - videohash_video_gen_at_epoch30)\n",
        "print(\"Difference between videohash values of ground truth and predicted video at 35th epoch\", videohash_ground_truth - videohash_video_gen_at_epoch35)\n",
        "print(\"Difference between videohash values of ground truth and predicted video at 40th epoch\", videohash_ground_truth - videohash_video_gen_at_epoch40)\n",
        "print(\"Difference between videohash values of ground truth and predicted video at 45th epoch\", videohash_ground_truth - videohash_video_gen_at_epoch45)\n",
        "print(\"Difference between videohash values of ground truth and predicted video at 50th epoch\", videohash_ground_truth - videohash_video_gen_at_epoch50)"
      ],
      "metadata": {
        "colab": {
          "base_uri": "https://localhost:8080/"
        },
        "id": "zYnUR422A8DQ",
        "outputId": "77ec9d78-20c1-4599-cc40-66225875ecd3"
      },
      "execution_count": 14,
      "outputs": [
        {
          "output_type": "stream",
          "name": "stdout",
          "text": [
            "Difference between videohash values of ground truth and predicted video at 15th epoch 20\n",
            "Difference between videohash values of ground truth and predicted video at 20th epoch 22\n",
            "Difference between videohash values of ground truth and predicted video at 25th epoch 16\n",
            "Difference between videohash values of ground truth and predicted video at 30th epoch 18\n",
            "Difference between videohash values of ground truth and predicted video at 35th epoch 18\n",
            "Difference between videohash values of ground truth and predicted video at 40th epoch 18\n",
            "Difference between videohash values of ground truth and predicted video at 45th epoch 20\n",
            "Difference between videohash values of ground truth and predicted video at 50th epoch 20\n"
          ]
        }
      ]
    },
    {
      "cell_type": "markdown",
      "source": [
        "**Visualization**: \n",
        "\n",
        "\n",
        "![VideoHash.png](data:image/png;base64,iVBORw0KGgoAAAANSUhEUgAAAjIAAAGVCAIAAABrX4zFAAAAAXNSR0IArs4c6QAAAARnQU1BAACxjwv8YQUAAAAJcEhZcwAADsMAAA7DAcdvqGQAACJxSURBVHhe7d1NqyTFnsfxeUv3PcxqVq4uNMxmVrNyM8LQIuJmhIHLgMKhFyKKuGgQBZuLoNA0HPAO0memR2n6NnIPcpzuw1W5LdotaqODExH5FI/5UBmR+a/M74dCK58io7Kz8nciIqvq7y4uLj4HAGBVvzX+zp4AAGBdxBIAQBBiCQAgCLEEABCEWAIACEIsAQAEIZYAAIIQSwAAQYglAIAgxBIAQBBiCQAgCLEEABCEWAIACEIsAQAEIZb27PLG1StXrt649J+XZPZjnJzVs5ZxdtK9vgVerL278fordliZmGOFY25OgoXfHbIQS0dBvzcsud4m9kVwgSu10vuO815l5urY15cFXmzkcpbca7egv2IrXCKX4f/LC3qR4TH3K2vJkyW9b5JdIJakM+eo88YI5xwqfREsdQHsLddbWL39s709p7+kWQchtnHieKf/GTyzKrScSdXUK/ur63lSLsu9L8ZUfm5Ngz2Y84FYglhzL2T90sX0vhkP11/vYKdZ3vWN6S9p1kGIbhx9/eP/MWdVaDnjq2leuuwrcO+L0QuJpfyIJdHSp72zJFjNP9PNCjVrvn1BbJ9XlwrLyVmkGv4eLG4B7WZ2HbTwZQVlBvU7OWsK79azy/XK7Bap1e3S7YINvxD3NSjRlzF2d52qXGc7py49FYuV2VMZ9xV4CyvxnVmrmhUim9bzm11YRbh7VaI7bvj7i0nuy92VXUpQrHPc9HZ6ojt29iHQnCXOtr5gT9HaBmu1ZbqvQTFr1YX01HDriCXJmvMzwixqztb0eV9PdKe1s6pdiFOgW8DQDmxmzcTu/J34gkLtrc2mTtlasEZ81/7G4YvtKqmm6ud6fpbd2dyd+cWkKxaWOVSZ+Jq2cKurSjtttrMmW2FdHKnNfKlqOeL7Mpt2s9ySgnKdCjUF2kfOWtveeOB1RvYU3aK/Pt6UMlDDHSCWJAvO5445V5uTeeC8d9jr2oU4BQYFmKXdHlLle6tpzqruTnxuqWZdb1NvW3931rS/qJrRbG5PBGu2Bg6CPR0UYu/BpUvtVvXWsyf7y/SXWtPBhsl/MGdNNXH1xg3rb5jERvVm8UVacjuXKcVazxyYllUrNeUW51S7Yu/TFGQvdirk79ZZGpQcrO0I9hSr7UB9vCmlt4a7QCxJFpzPHefUHTjvHfYbzy7EfS/0v1VSxbtlVJx5sRU65mVYnBUjm5pZzuHpKhZW0Z5jFdZTJa+Mw3fn0kti/wKaPd1bZk9lYq8oNk+zizk70SuoYtrp6CZKqrRaekNHshS9ffvaImvFNrTnOdtrToXMmvZSe0ZY9d4XE+wpVrWB+oR76K3hLhBLkgXnc8c5UwfO+2plW72u/Sayn0feKvbycGHNqVTDXtvdiS9ZrhbZ1MwKmHUiayfqYZ7Gj7FXn8N359GLql0GO/crlixzqDJ9/wo2vXI1X62hN9Iz2rrFtlDMHhLLlJ6X7uiOg8uZH9mXmdXzAoNynQoFW1szIjtztvUFe4oUMFSfcA99NdwHYkm05HvCPf17z3vvnWKf4vaisMRuG6NdIVkpf1eGMy+2QiddsBLZ1MxKvFvDshLHpKdKXhmH786nl+mSwhLt2vSW2VOZ2CuKzas0Zao1quX1E71FdAMlXZrR99IdzXHwOLMj+4rt3p4XFOtUyKxpL7VnhFUP51iCPcWqNlCfcA+9NdwFYkm24IyueLP909Z+c/hvFHvd9HrBW0Wp17gRWdSwC685Jbk78cV22opt2rNBUBNne3vCO5YWv/iDdxeo9nnD38jdrL/MKZXpXbtadNakkpmhnlb/NTMC/S+ub2cevWa4qpnb1D+2r4EX6C92iwg2tmfEFyZfjFNTLbq6X6i3UnC44pWwZ2wdsSSdOfOdczKc45zo5rnSnOnOW6fatpkMNmvfHe5Uo946XNCqdt7WzZtMFNvQxScXRjf1y1clNKs4i6qJbnunMK+QrgxnLc1bc/TuQs2RtAoznF32l+ksVVKVCdf06LqcnLRDSmb1q1fVJt0WsQK7F+eX7y0OV7BUi5xl7tpBYZpXoF++vU21zD9uwf6c3TVTwbY+888YlBWsbs8Nywy2MTOSNdwDYukYtBexStVicc/+5mxX1Pmrp7zzvqJmmquQ9bar17Ofa91G1vuhqsjAG8SprVPJYCcuvWFyYXJTe3eRvVW8Y+IXZq3pvLxufjvzkN1F1MX4h7KnYrEy05VxFvVVRKlW7dapdxoch3aGV0tvqVKX0MwNV3B1q1fs6nr76vS+QKtEtVs91a5hFgWVtWb0bOszdQjKiqzeX2a31JRlJoNS7RlbRywdq+pdufC5GrwNASAzYumYLf1XFKkEoDhiCWOZEEz2ZwBAFsQSAEAQYgkAIAixBAAQhFgCAAhCLAEABCGWAACCEEsAAEGIJQCAIMQSAEAQYgkAIAixBAAQhFgCAAhCLAEABCGWAACCEEsAAEG2FUvdjw87v1bn/LwyPxkEAIJtKZZU+jRZ5P5inY4lflMVAI7BZjvx7CgilgDgWBBLAABBNhpLphOvTSIdSy1GlgBAsE3GkhtKDnfQCQAgzAZjSbeNeoJnYDEAYE1biyXTX9c7jsRAEwAItqlYimeSmtvNG44tAMCKNhRL9mdpa1VnnbOA/jsAkGyTtzwAAI4VsQQAEIRYAgAIQiwBAAQhlgAAghBLAABBiKW9+ubN71/83aPq8c5pPVNJzQeARRBL+3T65MUXn1ZPTQ59f3phJlLzAWAhxBJ+e/pOvGGUmg8A5RBLIJYACEIs7Z7prHtyr57qpOYDQEnE0s5d/HQSbRKl5gNAWcTSruluupM3f62nOqn5AFAasbRfOnva++4sqfkAsABiaafIJAAyEUu7ZH9mtn5c+emb9HwAWAqxBAAQhFgCAAhCLAEABCGWAACCEEsAAEGIJQCAIMQSAEAQYgkAIAixBAAQhFgCAAhCLAEABCkZS2cnV66cnNUTAAAMI5YKs7/81PlVPfM7e/Wilb+x+8mPv1y/+eC5a3ffO72sZwFbJfYteQzXimUQS0WdPmlPI3POfX96UU3Zv7NnP1/YV49+vvb+F8+88Mnf/8vH1eOj21/Xy4ANEvuWlH6tWBKxtBx9SlV/BOnTzvrBCG9yEecPf3j57c/bNGof//Cv//m/X/9YrwRsmqi3pE1sxZZBLC2nO9Xuveg2xtUfSr97cq+eKO3ju3977tpdL43UnH/8t/+qnv/Tv//301/+r14b2C4hb8mQ2Ioto2Qswab/zKnPp19Pr7inmu47btvshaik+eOf/tpmT/tQbaY/XzxWK6j/qqZSNfMP1/9SbQVs1tpvySSxFVsKsbQMM2hZ/fmz+Kn26PHTtz788vcv3W6jSD2eeeGTa+9/8dWjn+uVjPdOL9sVGGTCpq35luwltmLLIZaWoJvk9kDlUg1zlTqq3dO2gaqHyqfrNx88+fGXeiXXS2/cr1ZjkAkbttZbcpDYii2JWCpOn2fOibXEMOan59+1AdM+/vk//mewDaTiikEmbNsqb8kxxFZsYcRSWZHzTHPa6Xqd5vl8t+58o+KnjaLq8fxr927f/7ZeYwiDTNiw5d+SI4mt2PKyx9LljatXYq7e2OEnNfWfNupUsx/tXzq6MV7PzPFBBNXKee/0MryjQeXKAX1xDDJhmxZ8S04jtmJryBVLqTQKcct4Zo8eP/U+EqseavL1Dy7Uonql6RhkArCKHLHURNJw4IxfEyOcP/xBNYbaKKoeqsH0xz/9df6YEINMAFYhc2yJnsABt+9/G34k9tlXP7t1J+dgKINMAJYnKpboCRygmiwf3f5atV3aKKoeL71xv/pIbHYMMgFYmJhYoiewV/Ul395HYlVT5pV3z72PxGbHIBOAJZWJJa/ZQ9/bDCp1VPa0nWnVQ+XTWx9+mfpIbF4MMgFYUoFY0t/QGiKaJvvzxePwI7EqGD66/fXC2cAgE4DFZI8l01DyM8jM5Pa70W7d+ebZVz9ro6h6PHft7viPxGbHIBOAZWSPpcSvWUz/kYt4o2vT4abaQNEv+VYNlPOHP9QrrYdBJgALEBpL3uBUp78v0N7M2VtygRCPHj99/YOL8COx197/Ys5HYvNikAnAAvKPLekAinbiTRhdipUxTG3VRI67Q7u4w4ouRzU7VGPIu6NBXf3fO71c5o6GSRhkAlBagVseEi2dKY0UnR0zGzVdEbo+VhB5k+u5ff/b51+710ZR9RjzJd/rYpAJQFEFYknToWCZGgMZoqOLJT/jMmTeTOpqHn7J90tv3P/0/Lt6DdkYZAJQTqFYmm1mdpgWW9dYcopas7mkWkjhR2L/cP0vpT8Sm9duB5liPz1gfbtz5FcJFkLFDqZO5us3H4T3GQl5qIrtsE+iZCxdnp1Nufh7Lay4UXniJJGoWLJv+64+EivnjoZJ9jfI1F5M7Stp8Fs4K/zuABU7kPpbMPzqfYEP9Uara7wbJWLJypf68j8mCUx8DBtuQund2zvzG14zG2KzqL/L1Hmm/gLK8iXf69rVIFN9Ae3/BWt/6RKo2AHOH/7w8tuft2ev8Mcr757X9d6N/LHUpYJ61sTDYi0UvXcvdLx9r9lY2prdDTL5l1Hzt3/9977TDlgaFRvn47t/C796X81R8+s1IED2WLLaIlYs2bNHiEfHYKBEMknT27Wzp1UEvXY3yBT5695cW01v1fenF/W85VGxXqkPqqs2U6Gv3sccJWKpiY7csTRQiEkfl7P7Wm+wYap9DTKFF9nqt67febO61HbdUwujYgmPHj9968MvvfuMqg+qH9d9RruSPZaspombUOPywMqPKEJFnh0NMnkXWXOFdUdKrvyU84cYR6NiAZU64QfVVT5dv/lA4AfVYStwy0Ok1aKNaisltm0QSkLtZZDJu8h6k954/pKomOXT8+/aE7J9yP+gOloFYknzGj1T4yTRiQep9jLI5F1V3b/9fz29IrNRsp+K3brzTfhB9edfu7fiV+/jAIViCbuz7UEmfbuzGaVvHs3FVF92g5kLomKK+qvovdPL8I4GdR7yLSTHiFhCNnxdHhb26PHT8COxavL1Dy6O9IPqULLE0sCIUIP7srePr8vDMs4f/qAaQ20UVY9tfFAdeVpLQ/fPTY2knvLINtF290kmLO72/W/Dj8Q+++pnt+4s3lOJMvJ34ll3iLdG3x9em3MzH1bGbzKhBPUnzke3v1Z/67RRVD1UA52PxG5M9ljSCRSJDzV77q113J53NBhkQkaqCX795gPvI7HqT59X3j3nI7GbtGAszW/sZCkEi2CQCfOp1FHZ0za+q4fKp7c+/JKPxG5Y9lgy/W9Bo0YHyuyWTqx7EEIxyIQ5/nzxOPxIrDqRVOObc2nz8o8tmQiKmJInibElhVQ6Hgwy4QC37nxj/yxZ9Xju2l0+ErsfBWJJ86JpakMpkWyMLB0bBpkwkmoDRb/kW/1Bc/7wh3ol7EOhWAJqDDKh36PHT1//4CL8SOy197/gI7H7RCyhLAaZkKL+TFGNIe+OBnW2qEY2dzTsWaZYMr1uZtwnPSw0oQuOe8E3hUEmeG7f//b51+61UVQ9+JJvVLLHUmJYSBt/u4IuhJsbtoRBJlTUv374Jd8vvXH/0/Pv6jWwe0I78bqYw1aMH2QyXz5t/yqPYX4Tof7m6ZM3f63nruOrRz+//sFFOD7PY9JDnQmq9cxHYuGRO7YUb3bRtXe0xg0y6d+FM9njxpL3q6brUX/Uv/z25+2Flcdhj+ojsdzRgKjssTSnnXN542oVO1l6AiHO4CCTbieplpD323HV/HdO64k1qBCN9j7xmPpQf5rwJd/olz2WnFseJrZtGFLavlGDTH4srfeb383ty+qv+7ba1ePZVz9jkAwooVgnnntH3riwIZZ2YXiQyYsl3YN35ck7V5qfNP3d96cX9aKSVNsu2l+nZqpF9UoAcis/ttTl02DiEEu7MDzIFIklK4r00rK/Aq6aQeH336gGE795CixAXCwN4JaHTRgYZIrFktWJV6pPT0XOWx9+GfbXVZ+nYTgEWEa5WHIyZlyajIglWlNb0TfIFBtbsjru8sdS9Be41ePltz/n8zTAwsre8jAxROjE25fkIJMfS80deub5r6dXvKVzRL+v+pkXPnn9gws+TwOsInssmRbPgV1txNK+hINM5oO09qMdQ7r46aSdmSGTHj1+Gv7gaVUN+uuAdZUfW5qAWNqd5b8uL/r1oOqhmm78og8gAbGElS32dXm37nzz3LW77b6qR/UDCvTXAXKIiiXs1PivyzvAkx9/uX7zQfj9dXzdACATsYT1jfu6vMlUwr3y7nnYX/f8a/forwPEyhJL7t13SfTPISnvINPHd/8W/pzPMy98olKK/jpAuDytJXP7XS8iCUPmDzKpVpcqJNpfp+arpfV6AATL34lnmk5eCunYGrppnCYXDh9kUm0g1RJS7aE2iqqHajOpllO9EoBjkD2WEnfTqdlDuUSTCwcMMkV/flulmkqp7HdPAFjAgrE0JVUObXLh6I0cZFKJ9cc//TXaX3f95gP664DjlT2WTKAE6TExUtLZRi7tQP8g01ePfr72/hdhf91z1+7eulPye8UBLCL/2JLJlIgpPXDpWJpUDI5WdJDp9v1v2/ntQ62gGlX01wGbUSCWNC+aprZxsjS5cMS8QSbVZlL/baOoevz+pdvXbz7gB5CAjSkUS7NlaHLhuNmDTN7j2Vc/o78O2KqSsXR5djaraTOzyYWjZw8yVY8/XP/L+cMf6sUAtqhELFlxUkeJ7pQjVXCAV949V2n0+5duv/Xhl/TXAXuQP5a6ESD1rMkicgkAMEb2WNKpVI8AWbFkzx5JbxHB6BIAbFmJWGqyaEYsmVvxYmhyAcCmZY8lEyhVALkJNSVRJq4OANiKArc8JFo6U3rfJratAABbUSCWNJ0rlqktn1l3SJh9O6E2szYAgMUUiqW5rK7ASdoACmKJxhcAHIMiY0thc+SA5o/XxKn1FqI3USsEKUQsAcCxWCiWJiZDPJKMEYUQSwBwtDLGUk+WGBNbS4eLxlJrsWoAAKbLF0tmOChtwTToaxyZWpJMACDVUp14S+rvs9NLySUAECp7LGXh9Lq5RowRDcfSiEIAAGsoEEsmU5wLfzhnQKJDcGQRXvCoyW5qclUAAEsq0okXXve9pDjIcPegyRxbtboTcvTfAYBk2WMpEUA5cilPIQAAwY4pluINMQDAhuQfW9IB5PeUmUCZ0H3mdLs5SCUA2LQCtzwkMmVKoOhoi2BcCAC2rkAsaV400cYBAIxSKJYAADiE4FjyWlz04AHADmSKJTMYZLrq0ncrTMqV+OgS0QQAG5c9lhJ3K2jjR5hMtvkZZGYySgUAmyazE09nWySAErMBAJtBLAEABMkSS+nxJMeERNEBFO3EY3QJADYtT2tJp0i/qY2cRNLRVgKAbcvfiRe7MyHW+BnmhR0NJQDYvuyxlBj/UbOJFQDAkAVjiR44AMCQ7LEUvzFBp9KE1pIuhMYVAOxQ/rElE0ERU9pKtK0AYKcKxJLmRdPklo/ZnmACgN0pFEsZxBtddO0BwKaVjKXLs7MDMyTRD6jRhAKALSsRS1ao1I0bbmEAAIySP5Z0KFURpJ41WUQuAQDGyB5LOpXqjjYrluzZfdzby82Ugy48ANi2ErHUxMr0WNJrWY2qMJbIJQDYtuyxZKKkCg83oey8SfC7+rxpfzEAYHMK3PIQaeNoI9o5fpPKz6FxTS4AwPEqEEuaDhDLyDYOsQQAe1colg5j2lnp3NGpRCceAGyaqFiqcimRPH3LAAAbUeSWhxnhUfX+hQWk5gMANiV7LM0e/zGtoiiGlQBg8/J34pl2zdwE8bOJZhIA7EORsaWqx81HtAAAhhTpxEugEw4AMKBIawkAgMOIiaVmNGm4SdW0x2h8AcD2lIkl/46FkQmSvgnPRyQBwDYViKXE6NKUJEnlE3dNAMDGZY8lkyh+BJmZZAoAYEj2WNJtpUjDKDEbAABbkdZSpF00PZYy9AUCAI5NobElLzz0rEl9eMmbH+gJBIBNKxBLyYZOYzhaJscYAGAbiowtDRnsiIs0uAAAe1CktTRbYoAKALB1MmOJ9hIA7JSgWBrT/TemDWXK8SLNvoWCtAMAuXLEUnPNH77eN8kTWzN5852rfydttDmr6blNntnPAQDS5GotjQwVpWBjpY4c/T9rL95AlTcJAJAkeydeKp+mJYGTLG2RI8vwYsmbDKYBAHLIvOVBBVEbQW7OjckTN3fM9vZmegbNJQCQSWYsqWBpgkNnTJMqI9s5xBIAHK0isWSiJDQiUWpVAVdPTqqGUrPhQbEUbDWyFADACvLHktvpZpnSQqlyqeJ0540pxMsdbzMaSwAgWPZY0pmQ46rfBFNX1uiSvViqgrKZ4S8EAEhSJJbWuuw3UdZqU8xaQksJAATLHkv0kQEADlfglge6yQAAh8oTS0HvWcy0NpQZEIog8ABgy7LEUipCPBMSJZFz9A4CwMYV6MTLQKdSHUFWl6BOPxpLALBp+WPJGVpq21HT2jmJLCKXAGDrsseSio42gtpQMiYEih1t6nlToJN4AIANyh5LXoo0MTIxUazVD842AMDxKRFLyqFfZ9fS67etrqpMqzQAwEaVGVtqON157QQAAAn5Y6kLpi6HnLYPAAApJWLpYHZDK4V+PADYMlGx5N7dEEWbCwA2TVQseej6A4DdKRFLqUbP1P43YgkAdid/LCUGiA7IF2IJAHYneyxZWaKf1i0k3YCafLMCsQQAu1MkliJZdEguEUsAsDslY0k/b2LFnp3EnXgAsHdlxpas5lJnuLGkNx0ytckFADgm+WPJhEvbqGmThjgBAAwrEEsAAByKWAIACJIrlgoMC3k3QHCzAwDsQK5Yyn0TXTzmiCYA2LhCnXjObQ/TmZDztzczuXMCADZNZizpzSMBlJgNANgMYgkAIIjMWIpuH+3ZAwBsitBYSt1CQVsJALYtVyzlvhNP09lmoaEEANuXK5a8CImiqQMAGFCoEy+fy7MzGkkAsBtiY8lqftW9d7qfkI48ANg2obHU3TKhnjVZRC4BwOaViSXvBojJWaJTqR6JsmLJng0A2KQCsaTDIzQpmqwsIpYAYE+yx5JpKPkZZGZOCBRrfTehpqUbAODYZI+lRItmakPH6wZs0FYCgG2TGkua3sZCQwkAti//2JIOk2gnHrECABhS4JYH+t8AAIcqEEvaAf1viTTzkW4AsGWFYukQXpRFEEkAsHUlY2nG19lZd4i3YoNWAIBtKRFLVrOnjhGdMlMSRZcQaRqp2eQSAGxa/ljqGjVWikzMpXQs0ZEHAJuWPZas6LBiaWKimD68IMZ0GROyraM3tBxUBgBgCSViqbnsHx5LQZI0DmsrTd05AGAt2WPJulnBTajpjRQvmg5v5BBLAHAsCtzyYIIptGIuEEsAcCwKxJKWraGThVOblesCAOhTKJYOYtLDtGoSDS5lbqjEb6YAAAghM5a8xpZtdmecLptcAgChssRSunHjkDG8o2OJgSYAECpPa6mndVMbFQRdcyknVWpXZpldAAAyyd+JZ90h3tJhMKLjzEm3fB1tTmOO/jsAkCx7LOloibRG1OzxgeB2CtK2AYD9WDCWDsgX2jkAsDPZY8kkSZAgOpXmxEqXT7SdAGDL8o8tmQiKmJUnxBIA7EOBWNK8aDq4oeSWQyQBwNYViqWZ3DRiUAkAdkNULLl34NE4AoD9yRRLpnljYsSLFstwo6dqJNE4AoD9yh5Lbv+bg9YPAGCAzLElAMBO5YqlrrkEAMDBssZSg9EhAMBhcnfiuXc80HwCAExSbGzJySeaTwCAUcrf8sD3BgEARiOWAACClIsl9wNMRBIAYITsseSmEYNKAIApcsWS951DNI4AAIfIFUtVI4nGEQBglvK3PAAAMBqxBAAQhFgCAAhCLAEABCGWAACCEEsAAEGIJQCAIMQSAEAQYgkAIAixBAAQhFgCAAhCLAEABCGWAACCEEsAAEGIJQCAIMQSAEAQYgkAIAixBAAQhFgCAAhCLAEABCGWAACCEEsAAEGIJQCAIMQSAEAQYgkAIAixBAAQhFgCAAiyk1i6vHH1SuPkrJ4JABBnF7F0dnLlytUbl8FzAIA0O4gl3VKygsibBABIsoNY0u0ju+POnwYAyLH9WDLDSnYM0VwCALmIpVEePHigDhQAoJD6aksnHgBAFG55AAAIsoNYcrvxaCsBgGR7iCVFh1GNlhIACLaTWAIAHAdiCQAgCLEEABCEWAIACEIsAQAEIZYAAIIQSwAAQYglAIAgxBIAQBBiCQAgCLEEABCEWFqC+Uo+5wtirS/p01b4oj7zBbY1p2rJBUtI7FzW4XJ2v+rhUhIVW/+I1aqK2Ptf+4jV/IqtfsTSFRByxJZDLJXWnmzO+aTnrnmCqf03uzfnfPse0BVrJuzni+it1ZqHS9UmeoTWPVxKb8XWPGI1/c949ar9UzJrH7FavGKrHrFUBYQcsSURS2XVp1FwxqVOwVV0lTFv1u6s9yaXZR8iDtcY4o5YdUDOrMMi5IiFFRNwxOIVEHLElkUsLSI440RcNRpdZfxqrVlNe9+CDpe+LjR1kXS4nIrJOGKqDvoKal9JZRyxSMUEHLF4BWQcsYURS4sIziU9o7XuXz/W5cy9sinuG3dJblXWP1ymPpW2ViIOV6xiiowjZmpkHRUxR8yvmLL6EYtWQMQRWxyxtAh9xtnnls2ceKudaM5pL+Y9EFSks+7hUszVw9RNzOGqdBVzrXLErEPhPV35iMUr5jLVXLZarq4C5pmcc2whxNIi+mKpWrrOmebv2a9nf71LGTge6x2uWntUZByuTmr/yx8xtcd2h/aFdPUjlqqYZ/kj5mkrsPoRWwOxtIj+c2mlM03v1tuv90Zd4y+zSK08q78x2woIOFyO1JFZ/IiZf8SAqsLaRyxZMc/iR8zXVkDaObYIYmkR3lmuJrsp805Z/C2Q2Ks+69vZXq0XEK/V6odLHZXuUmAfopUPV7Jiqx8xm65XW8u1j5jNrtjqRyxZAUlHbCnEUlnm/LJVbwNzqjW6C8tinP1X2lpYVV64ZslarX24vH9H57qw3uEyEhVb/4h1dF3sKqx8xDpOxVY/Yj0VEHPElkIsAQAEIZYAAIIQSwAAQYglAIAgxBIAQBBiCQAgCLEEABCEWAIACEIsAQAEIZYAAIIQSwAAQYglAIAgxBIAQBBiCQAgCLEEHBPz+wc7+Mkd7BixBMzi/E5OreCv4hBL2DxiCZjF5MRyv85GLGHziCVgFmIJyItYAmbpiSW9SC/pfvTaX89s3PLTxv5F9GZZE0upMu0SSS8cJWIJmGUglrRmqYmSbtXYZJck7qSaqp43ZdZLqslmNTMVbgMcFWIJmKXJiU6bNG5maDpr6sVuhBj9SytmQZdlzkbOc+BYEUvALEFOdMJs6VaObda/tBKUac8wz1O1AY4EsQTMkk6QMEKslcNlStvaiS41giX+DF1GLVoAIB2xBMzSJU0gDJduTmyzbl660KDMYEbFzCaZcIyIJWCWdIJEFvWPHllLTZsnlinBZpFyalZxwBEhloBZhmJJaZa6WVMtHTmpNq1KMfPtFLJmtCtpZj6phCNELAGzVPnhqWKiTgxrDTtPNBNUDT9DnJKbLesyqwnNmeFsQibhOBFLQClBhAAYRiwBpRBLwAGIJaAUYgk4ALEEABCEWAIACEIsAQAEIZYAAIIQSwAAQYglAIAgxBIAQBBiCQAgCLEEABCEWAIACEIsAQAEIZYAAIIQSwAAMX777f8BPoQyB/SgOIAAAAAASUVORK5CYII=)\n",
        "\n",
        "\n"
      ],
      "metadata": {
        "id": "yLTNqn9mITii"
      }
    }
  ]
}